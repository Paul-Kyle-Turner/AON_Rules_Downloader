{
 "cells": [
  {
   "cell_type": "code",
   "execution_count": null,
   "id": "0e7bc194-8591-4aa9-af98-050fc6fcd0db",
   "metadata": {
    "tags": []
   },
   "outputs": [],
   "source": [
    "import requests\n",
    "from bs4 import BeautifulSoup\n",
    "import re\n",
    "from tqdm.notebook import tqdm\n",
    "import time\n",
    "import pickle"
   ]
  },
  {
   "cell_type": "markdown",
   "id": "07a2b0b3-d34c-4ccb-86a6-e93e672f1eb4",
   "metadata": {},
   "source": [
    "### Get each link from the main page of the archive."
   ]
  },
  {
   "cell_type": "code",
   "execution_count": null,
   "id": "59f518b1-2d3c-42cd-9022-54ff5beb0e31",
   "metadata": {},
   "outputs": [],
   "source": [
    "url = \"https://2e.aonprd.com/Rules.aspx\"\n",
    "response = requests.get(url)\n",
    "html_text = response.text\n",
    "rules_numbers = [1, 2, 6, 12, 17, 22, 39, 48, 74, 75, 85, 88, 94, 96, 98, 100, 113, 118, 123, 129, 150, 151, 146, 191]\n",
    "span_id = 'ctl00_RadDrawer1_Content_MainContent_DetailedOutput'"
   ]
  },
  {
   "cell_type": "code",
   "execution_count": null,
   "id": "3f6ff704-51ac-4da9-9646-9dc3efd37e25",
   "metadata": {
    "tags": []
   },
   "outputs": [],
   "source": [
    "def generate_rules_list(html_text, slice_number):\n",
    "    slice_rules_link_list = []\n",
    "    \n",
    "    soup = BeautifulSoup(html_text, 'html.parser')\n",
    "    div = soup.find('div', id=f'SO_Rules{slice_number}')\n",
    "    div = str(div)\n",
    "    \n",
    "    soup = BeautifulSoup(div, 'html.parser')\n",
    "    anchors = soup.find_all('a')\n",
    "    \n",
    "    for anchor in anchors:\n",
    "        href = anchor.get('href')\n",
    "        text = anchor.text\n",
    "        slice_rules_link_list.append({text: {'link': href}})\n",
    "    \n",
    "    return slice_rules_link_list"
   ]
  },
  {
   "cell_type": "code",
   "execution_count": null,
   "id": "ab1314a0-294e-4cf9-ba87-b061226cbcb5",
   "metadata": {},
   "outputs": [],
   "source": [
    "all_rules_link_list = []\n",
    "for rule_number in rules_numbers:\n",
    "    slice_rules_link_list = generate_rules_list(html_text, rule_number)\n",
    "    all_rules_link_list += slice_rules_link_list"
   ]
  },
  {
   "cell_type": "code",
   "execution_count": null,
   "id": "60ffd763-d621-4142-aa39-ae42a213e016",
   "metadata": {
    "scrolled": true,
    "tags": []
   },
   "outputs": [],
   "source": [
    "all_rules_link_list"
   ]
  },
  {
   "cell_type": "markdown",
   "id": "051de146-090a-482f-a1b8-99ce14dcf119",
   "metadata": {},
   "source": [
    "### Get information from the list up to the next title."
   ]
  },
  {
   "cell_type": "code",
   "execution_count": null,
   "id": "17710d71-c18e-4cd3-b921-2d35e151b800",
   "metadata": {},
   "outputs": [],
   "source": [
    "def href_clean(href):\n",
    "    if href.name == 'u':\n",
    "        return href.find('a').get('href')\n",
    "    elif href.name == 'a':\n",
    "        return href.get('href')\n",
    "    \n",
    "def remove_piazo_links(hrefs):\n",
    "    for href_dict in hrefs:\n",
    "        for href in href_dict:\n",
    "            if href == 'paizo.com':\n",
    "                del [hrefs[hrefs.index(href_dict)]]\n",
    "    return hrefs"
   ]
  },
  {
   "cell_type": "code",
   "execution_count": null,
   "id": "aa59d32c-e5b5-49ac-bc64-9dabf4d1916e",
   "metadata": {},
   "outputs": [],
   "source": [
    "def get_rule_information(url):\n",
    "    try:\n",
    "        response = requests.get(url)\n",
    "        html_text = response.text\n",
    "\n",
    "        soup = BeautifulSoup(html_text, 'html.parser')\n",
    "        span = soup.find('span', id=span_id)\n",
    "        soup = BeautifulSoup(str(span), 'html.parser')\n",
    "\n",
    "        # Find the first <h1> tag in the HTML\n",
    "        start_tag = span.contents[0]\n",
    "\n",
    "        # Find the second <h1> tag in the HTML\n",
    "        h1_tags = soup.find_all('h1')\n",
    "        if len(h1_tags) < 2:\n",
    "            second_h1_tag = None\n",
    "        else:\n",
    "            second_h1_tag = h1_tags[1]\n",
    "\n",
    "        hrefs = [start_tag]\n",
    "        rule_text = \"\"\n",
    "        sibling = start_tag.next_sibling\n",
    "        while sibling is not None and sibling != second_h1_tag:\n",
    "            if sibling.name is None:\n",
    "                rule_text += sibling.strip() if sibling.strip() != '' else ''\n",
    "            elif sibling.name == 'i':\n",
    "                rule_text += ' ' + sibling.text.strip()\n",
    "            elif sibling.name == 'a':\n",
    "                hrefs.append(sibling)\n",
    "            elif sibling.name == 'u':\n",
    "                hrefs.append(sibling)\n",
    "            sibling = sibling.next_sibling\n",
    "\n",
    "        return {'title': h1_tags[0].text,\n",
    "                'book referance': hrefs[-1].text,\n",
    "                'rule text': re.sub(r'//', '', rule_text),\n",
    "                'tree_links': remove_piazo_links([{ref.text: href_clean(ref)} for ref in hrefs[:-1]])\n",
    "               }\n",
    "    except Exception as e:\n",
    "        return {'Error': 'Error'}"
   ]
  },
  {
   "cell_type": "code",
   "execution_count": null,
   "id": "1b99b6ef-71aa-41bf-83c6-9348fea98f5b",
   "metadata": {
    "tags": []
   },
   "outputs": [],
   "source": [
    "thing = get_rule_information('https://2e.aonprd.com/Rules.aspx?ID=341')"
   ]
  },
  {
   "cell_type": "code",
   "execution_count": null,
   "id": "67e28bae-5a8c-4cc2-b70f-0b3428a811ee",
   "metadata": {},
   "outputs": [],
   "source": [
    "thing"
   ]
  },
  {
   "cell_type": "code",
   "execution_count": null,
   "id": "4cf8e803-384a-4425-9857-8773161e248d",
   "metadata": {
    "tags": []
   },
   "outputs": [],
   "source": [
    "html_text"
   ]
  },
  {
   "cell_type": "code",
   "execution_count": null,
   "id": "b4ed6559-b66a-44bf-8cf8-2b8f8cb32cad",
   "metadata": {},
   "outputs": [],
   "source": [
    "response = requests.get(f'https://2e.aonprd.com/Rules.aspx?ID={len(rules_list) + 3}')\n",
    "print(f'https://2e.aonprd.com/Rules.aspx?ID={len(rules_list) + 2}')\n",
    "html_text = response.text\n",
    "\n",
    "soup = BeautifulSoup(html_text, 'html.parser')\n",
    "span = soup.find('span', id=span_id)\n",
    "soup = BeautifulSoup(str(span), 'html.parser')\n",
    "\n",
    "# Find the first <h1> tag in the HTML\n",
    "start_tag = span.contents[0]\n",
    "\n",
    "# Find the second <h1> tag in the HTML\n",
    "h1_tags = soup.find_all('h1')\n",
    "if len(h1_tags) < 2:\n",
    "    second_h1_tag = None\n",
    "else:\n",
    "    second_h1_tag = h1_tags[1]\n",
    "\n",
    "hrefs = [start_tag]\n",
    "rule_text = \"\"\n",
    "sibling = start_tag.next_sibling\n",
    "while sibling is not None and sibling != second_h1_tag:\n",
    "    if sibling.name is None:\n",
    "        rule_text += sibling.strip() if sibling.strip() != '' else ''\n",
    "    elif sibling.name == 'i':\n",
    "        rule_text += ' ' + sibling.text.strip()\n",
    "    elif sibling.name == 'a':\n",
    "        hrefs.append(sibling)\n",
    "    elif sibling.name == 'u':\n",
    "        hrefs.append(sibling)\n",
    "    sibling = sibling.next_sibling\n",
    "\n",
    "{'title': h1_tags[0].text,\n",
    "        'book referance': hrefs[-1].text,\n",
    "        'rule text': re.sub(r'//', '', rule_text),\n",
    "        'tree_links': remove_piazo_links([{ref.text: href_clean(ref)} for ref in hrefs[:-1]])\n",
    "       }"
   ]
  },
  {
   "cell_type": "markdown",
   "id": "09215bba-071d-4231-9759-6827a4f9b90b",
   "metadata": {},
   "source": [
    "### Download all the rules"
   ]
  },
  {
   "cell_type": "code",
   "execution_count": null,
   "id": "e0316f4c-a180-4fb3-a8d7-4b7f65c7bc27",
   "metadata": {},
   "outputs": [],
   "source": [
    "max_rule = 1975\n",
    "base_url = 'https://2e.aonprd.com/'\n",
    "rule_url = 'Rules.aspx?ID='"
   ]
  },
  {
   "cell_type": "code",
   "execution_count": null,
   "id": "c6470908-a3e3-4fda-90ef-b8cd89ce90cf",
   "metadata": {},
   "outputs": [],
   "source": [
    "rules_list = []\n",
    "with open('rules_list.pickle', 'wb') as f:\n",
    "    pickle.dump(rules_list, f)"
   ]
  },
  {
   "cell_type": "code",
   "execution_count": null,
   "id": "818566ee-8031-4a01-a7a6-27f172ec4000",
   "metadata": {},
   "outputs": [],
   "source": [
    "with open('rules_list.pickle', 'rb') as f:\n",
    "    rules_list = pickle.load(f)\n",
    "\n",
    "for i in tqdm(range(len(rules_list) + 1, max_rule + 1)):\n",
    "    rules_list.append(get_rule_information(base_url + rule_url + str(i)))\n",
    "    time.sleep(1)"
   ]
  },
  {
   "cell_type": "code",
   "execution_count": null,
   "id": "244c4cc2-513b-4b7f-ba6f-a067a25774b5",
   "metadata": {},
   "outputs": [],
   "source": [
    "with open('rules_list.pickle', 'wb') as f:\n",
    "    pickle.dump(rules_list, f)"
   ]
  }
 ],
 "metadata": {
  "kernelspec": {
   "display_name": "pinecone-chroma",
   "language": "python",
   "name": "pinecone-chroma"
  },
  "language_info": {
   "codemirror_mode": {
    "name": "ipython",
    "version": 3
   },
   "file_extension": ".py",
   "mimetype": "text/x-python",
   "name": "python",
   "nbconvert_exporter": "python",
   "pygments_lexer": "ipython3",
   "version": "3.9.13"
  }
 },
 "nbformat": 4,
 "nbformat_minor": 5
}
