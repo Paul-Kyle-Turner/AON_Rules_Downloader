{
 "cells": [
  {
   "cell_type": "code",
   "execution_count": null,
   "id": "62dab1d0-9c80-4239-a836-670894aa99e8",
   "metadata": {
    "tags": []
   },
   "outputs": [],
   "source": [
    "import os\n",
    "from dotenv import load_dotenv\n",
    "load_dotenv()\n",
    "import time\n",
    "import datetime\n",
    "import json\n",
    "import re\n",
    "from tqdm.notebook import tqdm\n",
    "import pickle\n",
    "import numpy as np\n",
    "\n",
    "from PyPDF2 import PdfReader\n",
    "import pinecone\n",
    "import openai\n",
    "\n",
    "openai_api_key = os.getenv(\"OPENAI_API_KEY\")\n",
    "pinecone_api_key = os.getenv(\"PINECONE_API_KEY\")\n",
    "\n",
    "embedding_dimensions = 1536\n",
    "model_engine = \"text-embedding-ada-002\"\n",
    "pinecone_name = \"dnd-rules-lawyer\"\n",
    "pinecone_region = \"asia-southeast1-gcp\" # Pinecone calls this the environement ? strange\n",
    "pinecone_namespace = \"rules\"\n",
    "\n",
    "pinecone.init(api_key=pinecone_api_key, environment=pinecone_region)\n",
    "index = pinecone.Index(pinecone_name)\n",
    "openai.api_key = openai_api_key"
   ]
  },
  {
   "cell_type": "code",
   "execution_count": null,
   "id": "3ffc64f1-0d12-468e-bdb1-ee6b5ec49fc1",
   "metadata": {},
   "outputs": [],
   "source": [
    "with open('rules_list.pickle', 'rb') as f:\n",
    "    rules_list = pickle.load(f)"
   ]
  },
  {
   "cell_type": "code",
   "execution_count": null,
   "id": "8d9d2aec-69d0-4dd1-bb67-5f714b00d2e2",
   "metadata": {},
   "outputs": [],
   "source": [
    "unique_rules = list()\n",
    "for rule in rules_list:\n",
    "    if rule not in unique_rules:\n",
    "        unique_rules.append(rule)\n",
    "rules_list = unique_rules"
   ]
  },
  {
   "cell_type": "code",
   "execution_count": null,
   "id": "7412e179-664a-4d24-989a-2e29730a3aba",
   "metadata": {
    "tags": []
   },
   "outputs": [],
   "source": [
    "for rule in rules_list:\n",
    "    if \"Error\" in list(rule.keys()) or 'error' in list(rule.keys()):\n",
    "        print(rule)\n",
    "        del rules_list[rules_list.index(rule)]"
   ]
  },
  {
   "cell_type": "code",
   "execution_count": null,
   "id": "30224697-c7c3-4e16-8740-3a895e23fc9a",
   "metadata": {},
   "outputs": [],
   "source": [
    "len(rules_list)"
   ]
  },
  {
   "cell_type": "code",
   "execution_count": null,
   "id": "6cc888ab-17f4-4f57-bd1b-a658fa518925",
   "metadata": {},
   "outputs": [],
   "source": [
    "def clean_rule(rule):\n",
    "    \n",
    "    matches = re.finditer(r'[\\w]\\.[\\w]', rule)\n",
    "    for match in matches:\n",
    "        rule = re.sub(r'[\\w]\\.[\\w]',\n",
    "               rule[match.start()] + '.  ' + rule[match.end() - 1],\n",
    "               rule)\n",
    "    \n",
    "    if rule.startswith('/'):\n",
    "        rule = re.sub(r'[/]+', '', rule)\n",
    "    \n",
    "    return rule"
   ]
  },
  {
   "cell_type": "code",
   "execution_count": null,
   "id": "19a118b5-cbae-468e-b217-ef73dd246ecf",
   "metadata": {
    "tags": []
   },
   "outputs": [],
   "source": [
    "for rule_index, rule_meta in enumerate(rules_list):\n",
    "    try:\n",
    "        rule_meta['rule text'] = clean_rule(rule_meta['rule text'])\n",
    "    except Exception as e:\n",
    "        print(rule_index)\n",
    "        print(rule_meta)"
   ]
  },
  {
   "cell_type": "code",
   "execution_count": null,
   "id": "5d0d7617-2dab-4cf7-be86-e7a9396a032f",
   "metadata": {},
   "outputs": [],
   "source": [
    "rules_list[14]"
   ]
  },
  {
   "cell_type": "code",
   "execution_count": null,
   "id": "44579366-7fbe-427b-b9f3-a68bead4d205",
   "metadata": {},
   "outputs": [],
   "source": [
    "length_of_rule = 0\n",
    "longest_rule = None\n",
    "for rule in rules_list:\n",
    "    rule_text = rule['rule text']\n",
    "    if len(rule_text) > length_of_rule:\n",
    "        longest_rule = rule\n",
    "        length_of_rule = len(rule_text)"
   ]
  },
  {
   "cell_type": "code",
   "execution_count": null,
   "id": "8355f0d1-4399-4f8e-aa91-2a64f64838ad",
   "metadata": {
    "tags": []
   },
   "outputs": [],
   "source": [
    "longest_rule"
   ]
  },
  {
   "cell_type": "code",
   "execution_count": null,
   "id": "2d9ad350-d6ad-4ddd-9660-45acb030f82e",
   "metadata": {
    "tags": []
   },
   "outputs": [],
   "source": [
    "def get_openai_embeddings(content, engine=\"text-embedding-ada-002\"):\n",
    "    content = content.encode(encoding=\"ASCII\", errors=\"ignore\").decode()  # fix unicode errors\n",
    "    response = openai.Embedding.create(input=content, engine=engine)\n",
    "    vector = response['data'][0]['embedding']\n",
    "    return vector"
   ]
  },
  {
   "cell_type": "code",
   "execution_count": null,
   "id": "f3d2af03-3a16-46a4-9b71-4ef1856ea743",
   "metadata": {},
   "outputs": [],
   "source": [
    "def craft_content_from_rule(rule):\n",
    "    content = f'TITLE: {rule[\"title\"]}'\n",
    "    tree_links = []\n",
    "    \n",
    "    for link in rule['tree_links']:\n",
    "        link = list(link.keys())[0]\n",
    "        match = re.search(r'pg\\.', link)\n",
    "        if match is None:\n",
    "            tree_links.append(link)\n",
    "        else:\n",
    "            tree_links.append(link)\n",
    "            break\n",
    "    for index, link in enumerate(tree_links):\n",
    "        if index == len(tree_links) - 1:\n",
    "            content += f'\\nCORE RULEBOOK PAGE: {link}'\n",
    "        else:\n",
    "            content += f'\\nPARENT TITLE: {link}'\n",
    "    \n",
    "    content += f'\\nRULE: {rule[\"rule text\"]}'\n",
    "    return content"
   ]
  },
  {
   "cell_type": "code",
   "execution_count": null,
   "id": "069a4129-a9bd-4814-b7d4-dac08b5fe0b7",
   "metadata": {},
   "outputs": [],
   "source": [
    "for rule in tqdm(rules_list):\n",
    "    content = craft_content_from_rule(rule)\n",
    "    vector = get_openai_embeddings(content)\n",
    "    rule['vector'] = vector\n",
    "    rule['content'] = content"
   ]
  },
  {
   "cell_type": "code",
   "execution_count": null,
   "id": "6fb1538c-5cbc-4bd4-b8de-dfffb2835418",
   "metadata": {
    "tags": []
   },
   "outputs": [],
   "source": [
    "with open('rules_list.pickle', 'wb') as f:\n",
    "    pickle.dump(rules_list, f)"
   ]
  },
  {
   "cell_type": "code",
   "execution_count": null,
   "id": "6b77a713-cec3-4117-a966-c0c2238c853c",
   "metadata": {},
   "outputs": [],
   "source": [
    "from typing import Iterator\n",
    "class PineconeIterator:\n",
    "    def __init__(self, rules_list):\n",
    "        self.rules_list = rules_list\n",
    "        self.batch_size = 100\n",
    "        \n",
    "    def splits_num(self, elements: int) -> int:\n",
    "        return round(elements / self.batch_size)\n",
    "        \n",
    "    def get_iterator(self) -> Iterator[pd.DataFrame]:\n",
    "        splits = self.splits_num(len(self.rules_list) + 1)\n",
    "        if splits <= 1:\n",
    "            yield self.rules_list\n",
    "        else:\n",
    "            for chunk in np.array_split(self.rules_list, splits):\n",
    "                yield chunk\n",
    "                \n",
    "def generate_pinecone_rule_upsert(rule):\n",
    "    rule_dict = {}\n",
    "    rule_dict[\"id\"] = str(hash(rule['rule text']))\n",
    "    rule_dict[\"values\"] = rule['vector']\n",
    "    metadata = {}\n",
    "    for link in rule['tree_links']:\n",
    "        link = list(link.keys())[0]\n",
    "        links = re.split(r'pg\\.', link)\n",
    "        if match is not None and len(links) == 2:\n",
    "            metadata['book'] = links[0]\n",
    "            metadata['page'] = links[1]\n",
    "    metadata['title'] = rule['title']\n",
    "    metadata['url'] = rule['rule_url']\n",
    "    rule_dict[\"metadata\"] = metadata\n",
    "    return rule_dict"
   ]
  },
  {
   "cell_type": "code",
   "execution_count": null,
   "id": "6c9c873e-e211-4437-b281-3ed91b2ebbde",
   "metadata": {},
   "outputs": [],
   "source": [
    "len(rules_list)"
   ]
  },
  {
   "cell_type": "code",
   "execution_count": null,
   "id": "25b10303-1bc4-4243-9938-48e22779ead9",
   "metadata": {
    "tags": []
   },
   "outputs": [],
   "source": [
    "p = PineconeIterator(rules_list)\n",
    "for rules in tqdm(p.get_iterator()):\n",
    "    rules_upsert = []\n",
    "    for rule in rules:\n",
    "        rules_upsert.append(generate_pinecone_rule_upsert(rule))\n",
    "    index.upsert(vectors=rules_upsert, namespace=pinecone_namespace)"
   ]
  }
 ],
 "metadata": {
  "kernelspec": {
   "display_name": "pinecone-chroma",
   "language": "python",
   "name": "pinecone-chroma"
  },
  "language_info": {
   "codemirror_mode": {
    "name": "ipython",
    "version": 3
   },
   "file_extension": ".py",
   "mimetype": "text/x-python",
   "name": "python",
   "nbconvert_exporter": "python",
   "pygments_lexer": "ipython3",
   "version": "3.9.13"
  }
 },
 "nbformat": 4,
 "nbformat_minor": 5
}
